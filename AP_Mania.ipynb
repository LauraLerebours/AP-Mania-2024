{
  "nbformat": 4,
  "nbformat_minor": 0,
  "metadata": {
    "colab": {
      "provenance": []
    },
    "kernelspec": {
      "name": "python3",
      "display_name": "Python 3"
    },
    "language_info": {
      "name": "python"
    }
  },
  "cells": [
    {
      "cell_type": "markdown",
      "source": [
        "# Circular Linked List Class"
      ],
      "metadata": {
        "id": "BCJ8kbSDNq7s"
      }
    },
    {
      "cell_type": "code",
      "source": [
        "import random as r\n",
        "\n",
        "class Node:\n",
        "    def __init__(self, data):\n",
        "        self.data = data\n",
        "        self.next = None\n",
        "    def set_data(self, new_data):\n",
        "      data = new_data\n",
        "def create_circular_linked_list(lst):\n",
        "    if not lst:\n",
        "        return None\n",
        "    # Shuffle the list randomly\n",
        "    r.shuffle(lst)\n",
        "    # Create the first node\n",
        "    head = Node(lst[0])\n",
        "    current = head\n",
        "    # Create the remaining nodes\n",
        "    for i in range(1, len(lst)):\n",
        "        new_node = Node(lst[i])\n",
        "        current.next = new_node\n",
        "        current = new_node\n",
        "    # Make the last node point back to the head\n",
        "    current.next = head\n",
        "    return head\n",
        "def print_circular_linked_list(head):\n",
        "    if not head:\n",
        "        return\n",
        "    current = head\n",
        "    # Traverse the circular linked list and print the data\n",
        "    while True:\n",
        "        print(str(current.data) + \"->\" + str(current.next.data), end='\\n')\n",
        "        current = current.next\n",
        "        if current == head:\n",
        "            break\n",
        "def randomize(head):\n",
        "    lst = []\n",
        "    current = head\n",
        "    # Traverse the circular linked list and print the data\n",
        "    while True:\n",
        "        lst.append((current.data,current.next.data))\n",
        "        current = current.next\n",
        "        if current == head:\n",
        "            break\n",
        "    r.shuffle(lst)\n",
        "    return lst\n"
      ],
      "metadata": {
        "id": "3IFFYc7WI69y"
      },
      "execution_count": 1,
      "outputs": []
    },
    {
      "cell_type": "markdown",
      "source": [
        "# AP Mania Class"
      ],
      "metadata": {
        "id": "SFUg4PwkOXeS"
      }
    },
    {
      "cell_type": "code",
      "source": [
        "import pandas as pd\n",
        "class ap:\n",
        "    def __init__(self,names,numbers):\n",
        "        self.names = names\n",
        "        self.numbers = numbers\n",
        "        # self.name2number = [names,numbers]\n",
        "        self.name2number = dict(zip(names,numbers))\n",
        "        self.head = create_circular_linked_list(names.copy())\n",
        "    # names = ['Bob', 'Carly', 'Sam', 'Sue', 'Tom', 'Tim']\n",
        "    # numbers = []\n",
        "    # number2name = {numbers,names}\n",
        "    #circular linked list with the names for pairings\n",
        "    def get_number(self,name):\n",
        "      return self.name2number.get(name)\n",
        "    def print(self):\n",
        "        print_circular_linked_list(self.head)\n",
        "    def get_agent_node(self,name):\n",
        "      current = self.head\n",
        "      while True:\n",
        "            if current.next.data == name:\n",
        "                return current\n",
        "                # ,self.name2number.get(current.next.data)\n",
        "            current = current.next\n",
        "            if current == self.head:\n",
        "                break\n",
        "    def get_target(self, name):\n",
        "      return self.get_target_node(name).data\n",
        "    def get_target_node(self, name):\n",
        "        return self.get_person_node(name).next\n",
        "    def get_person_node(self, name):\n",
        "      if not self.head:\n",
        "            return None\n",
        "      current = self.head\n",
        "      while True:\n",
        "            if current.data == name:\n",
        "                print('name found')\n",
        "                return current\n",
        "            current = current.next\n",
        "            if current == self.head:\n",
        "                print('not found')\n",
        "                break\n",
        "    def printPairingsRandom(self):\n",
        "        lst = randomize(self.head)\n",
        "        for i in lst:\n",
        "            print(i[0] + \" -> \" + i[1] + ' '+str(int(self.get_number(i[0]))))"
      ],
      "metadata": {
        "id": "B4uKqEt3KJlM",
        "collapsed": true
      },
      "execution_count": 5,
      "outputs": []
    },
    {
      "cell_type": "markdown",
      "source": [
        "# Driver Code"
      ],
      "metadata": {
        "id": "H5_5JpLBOdSj"
      }
    },
    {
      "cell_type": "code",
      "source": [
        "filename = ' '\n",
        "df = pd.read_csv(filename)\n",
        "tempnames = df['Last name, First name']\n",
        "names = []\n",
        "for i in range(0,13):\n",
        "  temp = str(tempnames[i])\n",
        "  if(',' in temp):\n",
        "    ind = temp.index(',')\n",
        "    tn = temp[ind + 1:len(temp)] + ' '+ temp[0:ind]\n",
        "  else:\n",
        "    tn = temp\n",
        "  names.append(tn)\n",
        "for name in names:\n",
        "  name = str(name)\n",
        "numbers = df['Phone Number']\n",
        "numbers = numbers[0:13]\n",
        "for num in numbers:\n",
        "  num = str(num)\n",
        "game = ap(names,numbers)\n",
        "game.printPairingsRandom()"
      ],
      "metadata": {
        "id": "Iki0qDZf4RPT",
        "collapsed": true
      },
      "execution_count": null,
      "outputs": []
    }
  ]
}